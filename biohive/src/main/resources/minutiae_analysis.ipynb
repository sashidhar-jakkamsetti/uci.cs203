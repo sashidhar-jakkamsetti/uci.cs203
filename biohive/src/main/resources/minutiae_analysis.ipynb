{
 "cells": [
  {
   "cell_type": "code",
   "execution_count": 1,
   "metadata": {},
   "outputs": [],
   "source": [
    "import cv2\n",
    "import os\n",
    "import glob \n",
    "from subprocess import check_output as call\n",
    "import math\n",
    "import numpy as np\n",
    "import matplotlib.pyplot as plt\n",
    "import scipy.stats as stats\n",
    "\n",
    "root_loc = \"/home/sashidhar/course-work/cs203/uci.cs203/\"\n",
    "\n",
    "def print_status(in_string):\n",
    "    print('\\n==> Running ', end =\" \")\n",
    "    \n",
    "    for element in in_string:\n",
    "        print(element, end =\" \")\n",
    "        \n",
    "    return 0;\n",
    "\n",
    "def extract_minutiae(tarp_loc, mindtct_loc, in_img, out_img, out_minutiae):\n",
    "    img = cv2.imread(in_img,0)\n",
    "    rows,cols = img.shape\n",
    "    \n",
    "    run_tarp = [\"java\",\"-jar\", tarp_loc, in_img]\n",
    "    #print_status(run_tarp)\n",
    "    alignment = call(run_tarp).decode(\"utf-8\").rstrip().split(\" \")\n",
    "\n",
    "    if len(alignment) != 3:\n",
    "        # This means that the minutiae processing fails. The input image is terrible.\n",
    "        return 1;\n",
    "\n",
    "    alignment = [float(alignment[0]), float(alignment[1]), float(alignment[2])]\n",
    "    angle = 360*(alignment[2]/(2*math.pi))\n",
    "\n",
    "    M = np.float32([[1, 0, 150 - alignment[0]], [0, 1, 150 - alignment[1]]])\n",
    "    dst = cv2.warpAffine(img, M, (cols, rows))\n",
    "\n",
    "    M = cv2.getRotationMatrix2D((cols/2, rows/2), angle, 1)\n",
    "    dst2 = cv2.warpAffine(dst, M, (cols, rows))\n",
    "    cv2.imwrite(out_img, dst2)\n",
    "    \n",
    "    run_mindtct = [mindtct_loc, out_img, out_minutiae]\n",
    "    print_status(run_mindtct)\n",
    "    call(run_mindtct)\n",
    "\n",
    "    return 0;\n"
   ]
  },
  {
   "cell_type": "code",
   "execution_count": 2,
   "metadata": {},
   "outputs": [],
   "source": [
    "files = glob.glob( root_loc + \"biohive/src/database/DB4_B/*.tif\")\n",
    "filetrim = root_loc + \"biohive/src/database/DB4_B/\"\n",
    "alignedprefix = root_loc + \"biohive/src/database/fingerprint_aligned/DB4_B/\"\n",
    "minutiaeprefix = root_loc + \"biohive/src/database/minutiae/DB4_B/\"\n",
    "tarp_loc = root_loc + \"biohive/src/main/resources/tarp.jar\"\n",
    "mindtct_loc = root_loc + \"biohive/src/main/resources/mindtct\" "
   ]
  },
  {
   "cell_type": "code",
   "execution_count": null,
   "metadata": {},
   "outputs": [],
   "source": [
    "i = 0\n",
    "print(\"total = %s\" % len(files))\n",
    "\n",
    "for f in files:\n",
    "    fprefix = f.replace(\".tif\", \"\").replace(filetrim, \"\")\n",
    "    aligned = alignedprefix + fprefix + \".jpeg\"\n",
    "    minutiae = minutiaeprefix + fprefix\n",
    "    i = i + 1\n",
    "    if i % 5 == 0:\n",
    "        print(i)\n",
    "    extract_minutiae(tarp_loc, mindtct_loc, f, aligned, minutiae)"
   ]
  },
  {
   "cell_type": "code",
   "execution_count": 58,
   "metadata": {},
   "outputs": [
    {
     "name": "stdout",
     "output_type": "stream",
     "text": [
      "total number of fingerprints = 235\n",
      "total number of minutiae above 30 percent quality = 8774\n"
     ]
    }
   ],
   "source": [
    "files2 = glob.glob(root_loc + \"biohive/src/database/minutiae/DB2_B/*.xyt\")\n",
    "files3 = glob.glob(root_loc + \"biohive/src/database/minutiae/DB3_B/*.xyt\")\n",
    "files4 = glob.glob(root_loc + \"biohive/src/database/minutiae/DB4_B/*.xyt\")\n",
    "files = files2 + files3 + files4\n",
    "print(\"total number of fingerprints = %s\" % len(files))\n",
    "\n",
    "x = []\n",
    "y = []\n",
    "o = []\n",
    "for fname in files:\n",
    "    contents = []\n",
    "    with open(fname) as f:\n",
    "        contents = f.readlines()\n",
    "    for content in contents:\n",
    "        content = content.rstrip().split(\" \")\n",
    "        if int(content[3]) >= 30:\n",
    "            x.append(int(content[0]))\n",
    "            y.append(int(content[1]))\n",
    "            o.append(int(content[2]))\n",
    "print(\"total number of minutiae above 30 percent quality = %s\" % len(x))"
   ]
  },
  {
   "cell_type": "code",
   "execution_count": 59,
   "metadata": {},
   "outputs": [
    {
     "name": "stdout",
     "output_type": "stream",
     "text": [
      "x co-ordinate stats:\n",
      "mean: 151\n",
      "median: 153\n",
      "std: 60\n",
      "min: 24\n",
      "max: 279\n"
     ]
    },
    {
     "data": {
      "text/plain": [
       "18"
      ]
     },
     "execution_count": 59,
     "metadata": {},
     "output_type": "execute_result"
    }
   ],
   "source": [
    "print(\"x co-ordinate stats:\")\n",
    "print(\"mean: %s\" %int(np.mean(x)))\n",
    "print(\"median: %s\" %int(np.median(x)))\n",
    "print(\"std: %s\" %int(np.std(x)))\n",
    "print(\"min: %s\" %int(np.min(x)))\n",
    "print(\"max: %s\" %int(np.max(x)))\n",
    "\n",
    "file = open(root_loc + \"biohive/src/main/resources/minutiae_probdist.meta\", \"w\") \n",
    "file.write(\"%s %s %s %s %s\\n\" %(int(np.mean(x)),int(np.median(x)),int(np.std(x)),int(np.min(x)),int(np.max(x))))"
   ]
  },
  {
   "cell_type": "code",
   "execution_count": 60,
   "metadata": {},
   "outputs": [
    {
     "name": "stdout",
     "output_type": "stream",
     "text": [
      "y co-ordinate stats:\n",
      "mean: 212\n",
      "median: 213\n",
      "std: 98\n",
      "min: 21\n",
      "max: 456\n"
     ]
    },
    {
     "data": {
      "text/plain": [
       "18"
      ]
     },
     "execution_count": 60,
     "metadata": {},
     "output_type": "execute_result"
    }
   ],
   "source": [
    "print(\"y co-ordinate stats:\")\n",
    "print(\"mean: %s\" %int(np.mean(y)))\n",
    "print(\"median: %s\" %int(np.median(y)))\n",
    "print(\"std: %s\" %int(np.std(y)))\n",
    "print(\"min: %s\" %int(np.min(y)))\n",
    "print(\"max: %s\" %int(np.max(y)))\n",
    "\n",
    "file.write(\"%s %s %s %s %s\\n\" %(int(np.mean(y)),int(np.median(y)),int(np.std(y)),int(np.min(y)),int(np.max(y))))"
   ]
  },
  {
   "cell_type": "code",
   "execution_count": 61,
   "metadata": {},
   "outputs": [
    {
     "name": "stdout",
     "output_type": "stream",
     "text": [
      "thetha stats:\n",
      "mean: 174\n",
      "median: 169\n",
      "std: 98\n",
      "min: 0\n",
      "max: 349\n"
     ]
    }
   ],
   "source": [
    "print(\"thetha stats:\")\n",
    "print(\"mean: %s\" %int(np.mean(o)))\n",
    "print(\"median: %s\" %int(np.median(o)))\n",
    "print(\"std: %s\" %int(np.std(o)))\n",
    "print(\"min: %s\" %int(np.min(o)))\n",
    "print(\"max: %s\" %int(np.max(o)))\n",
    "\n",
    "file.write(\"%s %s %s %s %s\\n\" %(int(np.mean(o)),int(np.median(o)),int(np.std(o)),int(np.min(o)),int(np.max(o))))\n",
    "file.close()"
   ]
  },
  {
   "cell_type": "code",
   "execution_count": 62,
   "metadata": {},
   "outputs": [
    {
     "data": {
      "image/png": "[encoded data removed]",
      "text/plain": [
       "<Figure size 432x288 with 1 Axes>"
      ]
     },
     "metadata": {
      "needs_background": "light"
     },
     "output_type": "display_data"
    }
   ],
   "source": [
    "mu = np.mean(x)\n",
    "sigma = np.std(x)\n",
    "g = np.linspace(mu - 3*sigma, mu + 3*sigma,100)\n",
    "plt.plot(g, stats.norm.pdf(g, mu, sigma)*110000)\n",
    "plt.hist(x, bins=20)\n",
    "plt.title(\"Histogram of X with 20 bins\")\n",
    "plt.show()"
   ]
  },
  {
   "cell_type": "code",
   "execution_count": 63,
   "metadata": {
    "scrolled": true
   },
   "outputs": [
    {
     "data": {
      "image/png": "[encoded data removed]",
      "text/plain": [
       "<Figure size 432x288 with 1 Axes>"
      ]
     },
     "metadata": {
      "needs_background": "light"
     },
     "output_type": "display_data"
    }
   ],
   "source": [
    "mu = np.mean(y)\n",
    "sigma = np.std(y)\n",
    "g = np.linspace(mu - 3*sigma, mu + 3*sigma,100)\n",
    "plt.plot(g, stats.norm.pdf(g, mu, sigma)*210000)\n",
    "plt.hist(y, bins=20)\n",
    "plt.title(\"Histogram of Y with 20 bins\")\n",
    "plt.show()"
   ]
  },
  {
   "cell_type": "code",
   "execution_count": 57,
   "metadata": {},
   "outputs": [
    {
     "data": {
      "image/png": "[encoded data removed]",
      "text/plain": [
       "<Figure size 432x288 with 1 Axes>"
      ]
     },
     "metadata": {
      "needs_background": "light"
     },
     "output_type": "display_data"
    }
   ],
   "source": [
    "plt.hist(o, bins=10)\n",
    "plt.title(\"Histogram of thetha with 10 bins\")\n",
    "plt.show()"
   ]
  },
  {
   "cell_type": "code",
   "execution_count": null,
   "metadata": {},
   "outputs": [],
   "source": []
  }
 ],
 "metadata": {
  "kernelspec": {
   "display_name": "Python 3",
   "language": "python",
   "name": "python3"
  },
  "language_info": {
   "codemirror_mode": {
    "name": "ipython",
    "version": 3
   },
   "file_extension": ".py",
   "mimetype": "text/x-python",
   "name": "python",
   "nbconvert_exporter": "python",
   "pygments_lexer": "ipython3",
   "version": "3.7.1"
  }
 },
 "nbformat": 4,
 "nbformat_minor": 2
}
