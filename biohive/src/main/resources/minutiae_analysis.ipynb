{
 "cells": [
  {
   "cell_type": "code",
   "execution_count": 3,
   "metadata": {},
   "outputs": [],
   "source": [
    "import cv2\n",
    "import os\n",
    "import glob \n",
    "from subprocess import check_output as call\n",
    "import math\n",
    "import numpy as np\n",
    "\n",
    "def print_status(in_string):\n",
    "    print('\\n==> Running ', end =\" \")\n",
    "    \n",
    "    for element in in_string:\n",
    "        print(element, end =\" \")\n",
    "        \n",
    "    return 0;\n",
    "\n",
    "def extract_minutiae(tarp_loc, mindtct_loc, in_img, out_img, out_minutiae):\n",
    "    img = cv2.imread(in_img,0)\n",
    "    rows,cols = img.shape\n",
    "    \n",
    "    run_tarp = [\"java\",\"-jar\", tarp_loc, in_img]\n",
    "    #print_status(run_tarp)\n",
    "    alignment = call(run_tarp).decode(\"utf-8\").rstrip().split(\" \")\n",
    "\n",
    "    if len(alignment) != 3:\n",
    "        # This means that the minutiae processing fails. The input image is terrible.\n",
    "        return 1;\n",
    "\n",
    "    alignment = [float(alignment[0]), float(alignment[1]), float(alignment[2])]\n",
    "    angle = 360*(alignment[2]/(2*math.pi))\n",
    "\n",
    "    M = np.float32([[1, 0, 150 - alignment[0]], [0, 1, 150 - alignment[1]]])\n",
    "    dst = cv2.warpAffine(img, M, (cols, rows))\n",
    "\n",
    "    M = cv2.getRotationMatrix2D((cols/2, rows/2), angle, 1)\n",
    "    dst2 = cv2.warpAffine(dst, M, (cols, rows))\n",
    "    cv2.imwrite(out_img, dst2)\n",
    "    \n",
    "    run_mindtct = [mindtct_loc, out_img, out_minutiae]\n",
    "    #print_status(run_mindtct)\n",
    "    call(run_mindtct)\n",
    "\n",
    "    return 0;\n"
   ]
  },
  {
   "cell_type": "code",
   "execution_count": null,
   "metadata": {},
   "outputs": [],
   "source": [
    "files = glob.glob(\"/Users/sashidharjakkamsetti/workspace/cs203/biohive/src/database/DB4_B/*.tif\")\n",
    "filetrim = \"/Users/sashidharjakkamsetti/workspace/cs203/biohive/src/database/DB4_B/\"\n",
    "alignedprefix = \"/Users/sashidharjakkamsetti/workspace/cs203/biohive/src/database/fingerprint_aligned/DB4_B/\"\n",
    "minutiaeprefix = \"/Users/sashidharjakkamsetti/workspace/cs203/biohive/src/database/minutiae/DB4_B/\"\n",
    "tarp_loc = '/Users/sashidharjakkamsetti/workspace/cs203/biohive/src/main/resources/tarp.jar'\n",
    "mindtct_loc = '/Users/sashidharjakkamsetti/workspace/cs203/biohive/src/main/resources/mindtct'"
   ]
  },
  {
   "cell_type": "code",
   "execution_count": null,
   "metadata": {},
   "outputs": [],
   "source": [
    "i = 0\n",
    "print(\"total = %s\" % len(files))\n",
    "\n",
    "for f in files:\n",
    "    fprefix = f.replace(\".tif\", \"\").replace(filetrim, \"\")\n",
    "    aligned = alignedprefix + fprefix + \".jpeg\"\n",
    "    minutiae = minutiaeprefix + fprefix\n",
    "    i = i + 1\n",
    "    if i % 5 == 0:\n",
    "        print(i)\n",
    "    extract_minutiae(tarp_loc, mindtct_loc, f, aligned, minutiae)"
   ]
  },
  {
   "cell_type": "code",
   "execution_count": 11,
   "metadata": {},
   "outputs": [
    {
     "name": "stdout",
     "output_type": "stream",
     "text": [
      "total minutiae files = 235\n"
     ]
    }
   ],
   "source": [
    "files2 = glob.glob(\"/Users/sashidharjakkamsetti/workspace/cs203/biohive/src/database/minutiae/DB2_B/*.xyt\")\n",
    "files3 = glob.glob(\"/Users/sashidharjakkamsetti/workspace/cs203/biohive/src/database/minutiae/DB3_B/*.xyt\")\n",
    "files4 = glob.glob(\"/Users/sashidharjakkamsetti/workspace/cs203/biohive/src/database/minutiae/DB4_B/*.xyt\")\n",
    "files = files2 + files3 + files4\n",
    "print(\"total minutiae files = %s\" % len(files))\n",
    "\n",
    "x = []\n",
    "y = []\n",
    "o = []\n",
    "for fname in files:\n",
    "    contents = []\n",
    "    with open(fname) as f:\n",
    "        contents = f.readlines()\n",
    "    for content in contents:\n",
    "        content = content.rstrip().split(\" \")\n",
    "        x.append(int(content[0]))\n",
    "        y.append(int(content[1]))\n",
    "        o.append(int(content[2]))\n",
    "        "
   ]
  },
  {
   "cell_type": "code",
   "execution_count": 19,
   "metadata": {},
   "outputs": [
    {
     "name": "stdout",
     "output_type": "stream",
     "text": [
      "x co-ordinate stats:\n",
      "cardinality of x: 15070\n",
      "mean: 150.5794293297943\n",
      "median: 152.0\n",
      "std: 70.37614760342565\n",
      "min: 8\n",
      "max: 295\n"
     ]
    },
    {
     "data": {
      "text/plain": [
       "48"
      ]
     },
     "execution_count": 19,
     "metadata": {},
     "output_type": "execute_result"
    }
   ],
   "source": [
    "print(\"x co-ordinate stats:\")\n",
    "print(\"cardinality of x: %s\" % len(x))\n",
    "print(\"mean: %s\" %np.mean(x))\n",
    "print(\"median: %s\" %np.median(x))\n",
    "print(\"std: %s\" %np.std(x))\n",
    "print(\"min: %s\" %np.min(x))\n",
    "print(\"max: %s\" %np.max(x))\n",
    "\n",
    "file = open(\"/Users/sashidharjakkamsetti/workspace/cs203/biohive/src/database/minutiae/probdist.meta\", \"w\") \n",
    "file.write(\"%s %s %s %s %s\\n\" %(np.mean(x),np.median(x),np.std(x),np.min(x),np.max(x)))"
   ]
  },
  {
   "cell_type": "code",
   "execution_count": 20,
   "metadata": {},
   "outputs": [
    {
     "name": "stdout",
     "output_type": "stream",
     "text": [
      "y co-ordinate stats:\n",
      "cardinality of y: 15070\n",
      "mean: 209.86735235567352\n",
      "median: 212.0\n",
      "std: 106.86636652590859\n",
      "min: 7\n",
      "max: 471\n"
     ]
    },
    {
     "data": {
      "text/plain": [
       "50"
      ]
     },
     "execution_count": 20,
     "metadata": {},
     "output_type": "execute_result"
    }
   ],
   "source": [
    "print(\"y co-ordinate stats:\")\n",
    "print(\"cardinality of y: %s\" % len(y))\n",
    "print(\"mean: %s\" %np.mean(y))\n",
    "print(\"median: %s\" %np.median(y))\n",
    "print(\"std: %s\" %np.std(y))\n",
    "print(\"min: %s\" %np.min(y))\n",
    "print(\"max: %s\" %np.max(y))\n",
    "\n",
    "file.write(\"%s %s %s %s %s\\n\" %(np.mean(y),np.median(y),np.std(y),np.min(y),np.max(y)))"
   ]
  },
  {
   "cell_type": "code",
   "execution_count": 21,
   "metadata": {},
   "outputs": [
    {
     "name": "stdout",
     "output_type": "stream",
     "text": [
      "thetha stats:\n",
      "cardinality of thetha: 15070\n",
      "mean: 185.70942269409423\n",
      "median: 202.0\n",
      "std: 100.5168615375029\n",
      "min: 0\n",
      "max: 349\n"
     ]
    }
   ],
   "source": [
    "print(\"thetha stats:\")\n",
    "print(\"cardinality of thetha: %s\" % len(o))\n",
    "print(\"mean: %s\" %np.mean(o))\n",
    "print(\"median: %s\" %np.median(o))\n",
    "print(\"std: %s\" %np.std(o))\n",
    "print(\"min: %s\" %np.min(o))\n",
    "print(\"max: %s\" %np.max(o))\n",
    "\n",
    "file.write(\"%s %s %s %s %s\\n\" %(np.mean(o),np.median(o),np.std(o),np.min(o),np.max(o)))\n",
    "file.close()"
   ]
  },
  {
   "cell_type": "code",
   "execution_count": null,
   "metadata": {},
   "outputs": [],
   "source": []
  }
 ],
 "metadata": {
  "kernelspec": {
   "display_name": "Python 3",
   "language": "python",
   "name": "python3"
  },
  "language_info": {
   "codemirror_mode": {
    "name": "ipython",
    "version": 3
   },
   "file_extension": ".py",
   "mimetype": "text/x-python",
   "name": "python",
   "nbconvert_exporter": "python",
   "pygments_lexer": "ipython3",
   "version": "3.6.8"
  }
 },
 "nbformat": 4,
 "nbformat_minor": 2
}
