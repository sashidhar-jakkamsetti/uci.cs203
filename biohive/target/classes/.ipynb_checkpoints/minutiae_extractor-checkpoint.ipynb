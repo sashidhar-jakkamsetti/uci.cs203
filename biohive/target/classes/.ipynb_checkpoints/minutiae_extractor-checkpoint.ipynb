{
 "cells": [
  {
   "cell_type": "code",
   "execution_count": 6,
   "metadata": {},
   "outputs": [
    {
     "name": "stdout",
     "output_type": "stream",
     "text": [
      "364 256\n",
      "\n",
      "==> Running  java -jar C:/Users/Dell/Desktop/tarp.jar C:/Users/Dell/Desktop/in_img/101_1.tif "
     ]
    },
    {
     "ename": "CalledProcessError",
     "evalue": "Command '['java', '-jar', 'C:/Users/Dell/Desktop/tarp.jar', 'C:/Users/Dell/Desktop/in_img/101_1.tif']' returned non-zero exit status 4294967295.",
     "output_type": "error",
     "traceback": [
      "\u001b[1;31m---------------------------------------------------------------------------\u001b[0m",
      "\u001b[1;31mCalledProcessError\u001b[0m                        Traceback (most recent call last)",
      "\u001b[1;32m<ipython-input-6-681cd3564154>\u001b[0m in \u001b[0;36m<module>\u001b[1;34m\u001b[0m\n\u001b[0;32m     48\u001b[0m                  \u001b[1;34m\"C:/Users/Dell/Desktop/in_img/101_1.tif\"\u001b[0m\u001b[1;33m,\u001b[0m\u001b[1;33m\u001b[0m\u001b[1;33m\u001b[0m\u001b[0m\n\u001b[0;32m     49\u001b[0m                  \u001b[1;34m\"C:/Users/Dell/Desktop/out_img/101_1.jpeg\"\u001b[0m\u001b[1;33m,\u001b[0m\u001b[1;33m\u001b[0m\u001b[1;33m\u001b[0m\u001b[0m\n\u001b[1;32m---> 50\u001b[1;33m                  \"C:/Users/Dell/Desktop/out_min/101_1\")\n\u001b[0m\u001b[0;32m     51\u001b[0m \u001b[1;33m\u001b[0m\u001b[0m\n\u001b[0;32m     52\u001b[0m \u001b[1;33m\u001b[0m\u001b[0m\n",
      "\u001b[1;32m<ipython-input-6-681cd3564154>\u001b[0m in \u001b[0;36mextract_minutiae\u001b[1;34m(tarp_loc, mindtct_loc, in_img, out_img, out_minutiae)\u001b[0m\n\u001b[0;32m     22\u001b[0m     \u001b[0mrun_tarp\u001b[0m \u001b[1;33m=\u001b[0m \u001b[1;33m[\u001b[0m\u001b[1;34m\"java\"\u001b[0m\u001b[1;33m,\u001b[0m\u001b[1;34m\"-jar\"\u001b[0m\u001b[1;33m,\u001b[0m \u001b[0mtarp_loc\u001b[0m\u001b[1;33m,\u001b[0m \u001b[0min_img\u001b[0m\u001b[1;33m]\u001b[0m\u001b[1;33m\u001b[0m\u001b[1;33m\u001b[0m\u001b[0m\n\u001b[0;32m     23\u001b[0m     \u001b[0mprint_status\u001b[0m\u001b[1;33m(\u001b[0m\u001b[0mrun_tarp\u001b[0m\u001b[1;33m)\u001b[0m\u001b[1;33m\u001b[0m\u001b[1;33m\u001b[0m\u001b[0m\n\u001b[1;32m---> 24\u001b[1;33m     \u001b[0malignment\u001b[0m \u001b[1;33m=\u001b[0m \u001b[0mcall\u001b[0m\u001b[1;33m(\u001b[0m\u001b[0mrun_tarp\u001b[0m\u001b[1;33m)\u001b[0m\u001b[1;33m.\u001b[0m\u001b[0mdecode\u001b[0m\u001b[1;33m(\u001b[0m\u001b[1;34m\"utf-8\"\u001b[0m\u001b[1;33m)\u001b[0m\u001b[1;33m.\u001b[0m\u001b[0mrstrip\u001b[0m\u001b[1;33m(\u001b[0m\u001b[1;33m)\u001b[0m\u001b[1;33m.\u001b[0m\u001b[0msplit\u001b[0m\u001b[1;33m(\u001b[0m\u001b[1;34m\" \"\u001b[0m\u001b[1;33m)\u001b[0m\u001b[1;33m\u001b[0m\u001b[1;33m\u001b[0m\u001b[0m\n\u001b[0m\u001b[0;32m     25\u001b[0m \u001b[1;33m\u001b[0m\u001b[0m\n\u001b[0;32m     26\u001b[0m     \u001b[1;32mif\u001b[0m \u001b[0mlen\u001b[0m\u001b[1;33m(\u001b[0m\u001b[0malignment\u001b[0m\u001b[1;33m)\u001b[0m \u001b[1;33m!=\u001b[0m \u001b[1;36m3\u001b[0m\u001b[1;33m:\u001b[0m\u001b[1;33m\u001b[0m\u001b[1;33m\u001b[0m\u001b[0m\n",
      "\u001b[1;32mc:\\users\\dell\\appdata\\local\\programs\\python\\python37-32\\lib\\subprocess.py\u001b[0m in \u001b[0;36mcheck_output\u001b[1;34m(timeout, *popenargs, **kwargs)\u001b[0m\n\u001b[0;32m    393\u001b[0m \u001b[1;33m\u001b[0m\u001b[0m\n\u001b[0;32m    394\u001b[0m     return run(*popenargs, stdout=PIPE, timeout=timeout, check=True,\n\u001b[1;32m--> 395\u001b[1;33m                **kwargs).stdout\n\u001b[0m\u001b[0;32m    396\u001b[0m \u001b[1;33m\u001b[0m\u001b[0m\n\u001b[0;32m    397\u001b[0m \u001b[1;33m\u001b[0m\u001b[0m\n",
      "\u001b[1;32mc:\\users\\dell\\appdata\\local\\programs\\python\\python37-32\\lib\\subprocess.py\u001b[0m in \u001b[0;36mrun\u001b[1;34m(input, capture_output, timeout, check, *popenargs, **kwargs)\u001b[0m\n\u001b[0;32m    485\u001b[0m         \u001b[1;32mif\u001b[0m \u001b[0mcheck\u001b[0m \u001b[1;32mand\u001b[0m \u001b[0mretcode\u001b[0m\u001b[1;33m:\u001b[0m\u001b[1;33m\u001b[0m\u001b[1;33m\u001b[0m\u001b[0m\n\u001b[0;32m    486\u001b[0m             raise CalledProcessError(retcode, process.args,\n\u001b[1;32m--> 487\u001b[1;33m                                      output=stdout, stderr=stderr)\n\u001b[0m\u001b[0;32m    488\u001b[0m     \u001b[1;32mreturn\u001b[0m \u001b[0mCompletedProcess\u001b[0m\u001b[1;33m(\u001b[0m\u001b[0mprocess\u001b[0m\u001b[1;33m.\u001b[0m\u001b[0margs\u001b[0m\u001b[1;33m,\u001b[0m \u001b[0mretcode\u001b[0m\u001b[1;33m,\u001b[0m \u001b[0mstdout\u001b[0m\u001b[1;33m,\u001b[0m \u001b[0mstderr\u001b[0m\u001b[1;33m)\u001b[0m\u001b[1;33m\u001b[0m\u001b[1;33m\u001b[0m\u001b[0m\n\u001b[0;32m    489\u001b[0m \u001b[1;33m\u001b[0m\u001b[0m\n",
      "\u001b[1;31mCalledProcessError\u001b[0m: Command '['java', '-jar', 'C:/Users/Dell/Desktop/tarp.jar', 'C:/Users/Dell/Desktop/in_img/101_1.tif']' returned non-zero exit status 4294967295."
     ]
    }
   ],
   "source": [
    "import cv2\n",
    "import os\n",
    "#import subprocess\n",
    "from subprocess import check_output as call\n",
    "import math\n",
    "import numpy as np\n",
    "\n",
    "def print_status(in_string):\n",
    "    print('\\n==> Running ', end = \" \")\n",
    "    \n",
    "    for element in in_string:\n",
    "        print(element, end = \" \")\n",
    "        \n",
    "    return 0;\n",
    "\n",
    "def extract_minutiae(tarp_loc, mindtct_loc, in_img, out_img, out_minutiae):\n",
    "    img = cv2.imread(in_img,0)\n",
    "    rows,cols = img.shape\n",
    "    \n",
    "    run_tarp = [\"java\",\"-jar\", tarp_loc, in_img]\n",
    "    print_status(run_tarp)\n",
    "    alignment = call(run_tarp).decode(\"utf-8\").rstrip().split(\" \")\n",
    "\n",
    "    if len(alignment) != 3:\n",
    "        # This means that the minutiae processing fails. The input image is terrible.\n",
    "        return 1;\n",
    "\n",
    "    alignment = [float(alignment[0]), float(alignment[1]), float(alignment[2])]\n",
    "    angle = 360*(alignment[2]/(2*math.pi))\n",
    "\n",
    "    M = np.float32([[1, 0, 150 - alignment[0]], [0, 1, 150 - alignment[1]]])\n",
    "    dst = cv2.warpAffine(img, M, (cols, rows))\n",
    "\n",
    "    M = cv2.getRotationMatrix2D((cols/2, rows/2), angle, 1)\n",
    "    dst2 = cv2.warpAffine(dst, M, (cols, rows))\n",
    "    cv2.imwrite(out_img, dst2)\n",
    "    \n",
    "    run_mindtct = [mindtct_loc, out_img, out_minutiae]\n",
    "    print_status(run_mindtct)\n",
    "    call(run_mindtct)\n",
    "\n",
    "    return 0;\n",
    "\n",
    "extract_minutiae(\"C:/Users/Dell/Desktop/tarp.jar\", \n",
    "                 \"C:/Users/Dell/Desktop/uci.cs203/biohive/src/main/resources/mindtct\",\n",
    "                 \"C:/Users/Dell/Desktop/in_img/101_1.tif\", \n",
    "                 \"C:/Users/Dell/Desktop/out_img/101_1.jpeg\", \n",
    "                 \"C:/Users/Dell/Desktop/out_min/101_1\")\n",
    "    \n",
    "    \n",
    "#     '/Users/sashidharjakkamsetti/workspace/cs203/biohive/src/main/resources/TARP/tarp.jar',\n",
    "#                  '/Users/sashidharjakkamsetti/workspace/cs203/NIBS/mindtct/bin/mindtct',\n",
    "#                  '/Users/sashidharjakkamsetti/workspace/cs203/biohive/src/database/fingerprint_raw/101_1.tif',\n",
    "#                  '/Users/sashidharjakkamsetti/workspace/cs203/biohive/src/database/fingerprint_aligned/101_1.aligned.jpeg',\n",
    "#                  '/Users/sashidharjakkamsetti/workspace/cs203/biohive/src/database/minutiae/101_1'"
   ]
  },
  {
   "cell_type": "code",
   "execution_count": null,
   "metadata": {},
   "outputs": [],
   "source": []
  }
 ],
 "metadata": {
  "kernelspec": {
   "display_name": "Python 3",
   "language": "python",
   "name": "python3"
  },
  "language_info": {
   "codemirror_mode": {
    "name": "ipython",
    "version": 3
   },
   "file_extension": ".py",
   "mimetype": "text/x-python",
   "name": "python",
   "nbconvert_exporter": "python",
   "pygments_lexer": "ipython3",
   "version": "3.7.3"
  }
 },
 "nbformat": 4,
 "nbformat_minor": 2
}
