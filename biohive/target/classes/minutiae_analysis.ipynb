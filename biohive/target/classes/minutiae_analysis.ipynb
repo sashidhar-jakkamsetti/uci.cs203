{
 "cells": [
  {
   "cell_type": "code",
   "execution_count": 7,
   "metadata": {},
   "outputs": [],
   "source": [
    "#!/bin/sh\n",
    "import cv2\n",
    "import os\n",
    "import glob \n",
    "from subprocess import check_output as call\n",
    "import math\n",
    "import numpy as np\n",
    "\n",
    "root_loc = \"/home/sashidhar/course-work/cs203/uci.cs203/\"\n",
    "\n",
    "def print_status(in_string):\n",
    "    print('\\n==> Running ', end =\" \")\n",
    "    \n",
    "    for element in in_string:\n",
    "        print(element, end =\" \")\n",
    "        \n",
    "    return 0;\n",
    "\n",
    "def extract_minutiae(tarp_loc, mindtct_loc, in_img, out_img, out_minutiae):\n",
    "    img = cv2.imread(in_img,0)\n",
    "    rows,cols = img.shape\n",
    "    \n",
    "    run_tarp = [\"java\",\"-jar\", tarp_loc, in_img]\n",
    "    #print_status(run_tarp)\n",
    "    alignment = call(run_tarp).decode(\"utf-8\").rstrip().split(\" \")\n",
    "\n",
    "    if len(alignment) != 3:\n",
    "        # This means that the minutiae processing fails. The input image is terrible.\n",
    "        return 1;\n",
    "\n",
    "    alignment = [float(alignment[0]), float(alignment[1]), float(alignment[2])]\n",
    "    angle = 360*(alignment[2]/(2*math.pi))\n",
    "\n",
    "    M = np.float32([[1, 0, 150 - alignment[0]], [0, 1, 150 - alignment[1]]])\n",
    "    dst = cv2.warpAffine(img, M, (cols, rows))\n",
    "\n",
    "    M = cv2.getRotationMatrix2D((cols/2, rows/2), angle, 1)\n",
    "    dst2 = cv2.warpAffine(dst, M, (cols, rows))\n",
    "    cv2.imwrite(out_img, dst2)\n",
    "    \n",
    "    run_mindtct = [mindtct_loc, out_img, out_minutiae]\n",
    "    print_status(run_mindtct)\n",
    "    call(run_mindtct)\n",
    "\n",
    "    return 0;\n"
   ]
  },
  {
   "cell_type": "code",
   "execution_count": 8,
   "metadata": {},
   "outputs": [],
   "source": [
    "files = glob.glob( root_loc + \"biohive/src/database/DB4_B/*.tif\")\n",
    "filetrim = root_loc + \"biohive/src/database/DB4_B/\"\n",
    "alignedprefix = root_loc + \"biohive/src/database/fingerprint_aligned/DB4_B/\"\n",
    "minutiaeprefix = root_loc + \"biohive/src/database/minutiae/DB4_B/\"\n",
    "tarp_loc = root_loc + \"biohive/src/main/resources/tarp.jar\"\n",
    "mindtct_loc = root_loc + \"biohive/src/main/resources/mindtct\" "
   ]
  },
  {
   "cell_type": "code",
   "execution_count": 10,
   "metadata": {},
   "outputs": [
    {
     "name": "stdout",
     "output_type": "stream",
     "text": [
      "total = 80\n",
      "\n",
      "==> Running  /home/sashidhar/course-work/cs203/uci.cs203/biohive/src/main/resources/mindtct /home/sashidhar/course-work/cs203/uci.cs203/biohive/src/database/fingerprint_aligned/DB4_B/106_1.jpeg /home/sashidhar/course-work/cs203/uci.cs203/biohive/src/database/minutiae/DB4_B/106_1 "
     ]
    },
    {
     "ename": "OSError",
     "evalue": "[Errno 8] Exec format error: '/home/sashidhar/course-work/cs203/uci.cs203/biohive/src/main/resources/mindtct'",
     "output_type": "error",
     "traceback": [
      "\u001b[0;31m---------------------------------------------------------------------------\u001b[0m",
      "\u001b[0;31mOSError\u001b[0m                                   Traceback (most recent call last)",
      "\u001b[0;32m<ipython-input-10-c27c22898d36>\u001b[0m in \u001b[0;36m<module>\u001b[0;34m\u001b[0m\n\u001b[1;32m      9\u001b[0m     \u001b[0;32mif\u001b[0m \u001b[0mi\u001b[0m \u001b[0;34m%\u001b[0m \u001b[0;36m5\u001b[0m \u001b[0;34m==\u001b[0m \u001b[0;36m0\u001b[0m\u001b[0;34m:\u001b[0m\u001b[0;34m\u001b[0m\u001b[0;34m\u001b[0m\u001b[0m\n\u001b[1;32m     10\u001b[0m         \u001b[0mprint\u001b[0m\u001b[0;34m(\u001b[0m\u001b[0mi\u001b[0m\u001b[0;34m)\u001b[0m\u001b[0;34m\u001b[0m\u001b[0;34m\u001b[0m\u001b[0m\n\u001b[0;32m---> 11\u001b[0;31m     \u001b[0mextract_minutiae\u001b[0m\u001b[0;34m(\u001b[0m\u001b[0mtarp_loc\u001b[0m\u001b[0;34m,\u001b[0m \u001b[0mmindtct_loc\u001b[0m\u001b[0;34m,\u001b[0m \u001b[0mf\u001b[0m\u001b[0;34m,\u001b[0m \u001b[0maligned\u001b[0m\u001b[0;34m,\u001b[0m \u001b[0mminutiae\u001b[0m\u001b[0;34m)\u001b[0m\u001b[0;34m\u001b[0m\u001b[0;34m\u001b[0m\u001b[0m\n\u001b[0m",
      "\u001b[0;32m<ipython-input-7-35cd99265bd2>\u001b[0m in \u001b[0;36mextract_minutiae\u001b[0;34m(tarp_loc, mindtct_loc, in_img, out_img, out_minutiae)\u001b[0m\n\u001b[1;32m     41\u001b[0m     \u001b[0mrun_mindtct\u001b[0m \u001b[0;34m=\u001b[0m \u001b[0;34m[\u001b[0m\u001b[0mmindtct_loc\u001b[0m\u001b[0;34m,\u001b[0m \u001b[0mout_img\u001b[0m\u001b[0;34m,\u001b[0m \u001b[0mout_minutiae\u001b[0m\u001b[0;34m]\u001b[0m\u001b[0;34m\u001b[0m\u001b[0;34m\u001b[0m\u001b[0m\n\u001b[1;32m     42\u001b[0m     \u001b[0mprint_status\u001b[0m\u001b[0;34m(\u001b[0m\u001b[0mrun_mindtct\u001b[0m\u001b[0;34m)\u001b[0m\u001b[0;34m\u001b[0m\u001b[0;34m\u001b[0m\u001b[0m\n\u001b[0;32m---> 43\u001b[0;31m     \u001b[0mcall\u001b[0m\u001b[0;34m(\u001b[0m\u001b[0mrun_mindtct\u001b[0m\u001b[0;34m)\u001b[0m\u001b[0;34m\u001b[0m\u001b[0;34m\u001b[0m\u001b[0m\n\u001b[0m\u001b[1;32m     44\u001b[0m \u001b[0;34m\u001b[0m\u001b[0m\n\u001b[1;32m     45\u001b[0m     \u001b[0;32mreturn\u001b[0m \u001b[0;36m0\u001b[0m\u001b[0;34m;\u001b[0m\u001b[0;34m\u001b[0m\u001b[0;34m\u001b[0m\u001b[0m\n",
      "\u001b[0;32m~/anaconda3/lib/python3.7/subprocess.py\u001b[0m in \u001b[0;36mcheck_output\u001b[0;34m(timeout, *popenargs, **kwargs)\u001b[0m\n\u001b[1;32m    387\u001b[0m \u001b[0;34m\u001b[0m\u001b[0m\n\u001b[1;32m    388\u001b[0m     return run(*popenargs, stdout=PIPE, timeout=timeout, check=True,\n\u001b[0;32m--> 389\u001b[0;31m                **kwargs).stdout\n\u001b[0m\u001b[1;32m    390\u001b[0m \u001b[0;34m\u001b[0m\u001b[0m\n\u001b[1;32m    391\u001b[0m \u001b[0;34m\u001b[0m\u001b[0m\n",
      "\u001b[0;32m~/anaconda3/lib/python3.7/subprocess.py\u001b[0m in \u001b[0;36mrun\u001b[0;34m(input, capture_output, timeout, check, *popenargs, **kwargs)\u001b[0m\n\u001b[1;32m    464\u001b[0m         \u001b[0mkwargs\u001b[0m\u001b[0;34m[\u001b[0m\u001b[0;34m'stderr'\u001b[0m\u001b[0;34m]\u001b[0m \u001b[0;34m=\u001b[0m \u001b[0mPIPE\u001b[0m\u001b[0;34m\u001b[0m\u001b[0;34m\u001b[0m\u001b[0m\n\u001b[1;32m    465\u001b[0m \u001b[0;34m\u001b[0m\u001b[0m\n\u001b[0;32m--> 466\u001b[0;31m     \u001b[0;32mwith\u001b[0m \u001b[0mPopen\u001b[0m\u001b[0;34m(\u001b[0m\u001b[0;34m*\u001b[0m\u001b[0mpopenargs\u001b[0m\u001b[0;34m,\u001b[0m \u001b[0;34m**\u001b[0m\u001b[0mkwargs\u001b[0m\u001b[0;34m)\u001b[0m \u001b[0;32mas\u001b[0m \u001b[0mprocess\u001b[0m\u001b[0;34m:\u001b[0m\u001b[0;34m\u001b[0m\u001b[0;34m\u001b[0m\u001b[0m\n\u001b[0m\u001b[1;32m    467\u001b[0m         \u001b[0;32mtry\u001b[0m\u001b[0;34m:\u001b[0m\u001b[0;34m\u001b[0m\u001b[0;34m\u001b[0m\u001b[0m\n\u001b[1;32m    468\u001b[0m             \u001b[0mstdout\u001b[0m\u001b[0;34m,\u001b[0m \u001b[0mstderr\u001b[0m \u001b[0;34m=\u001b[0m \u001b[0mprocess\u001b[0m\u001b[0;34m.\u001b[0m\u001b[0mcommunicate\u001b[0m\u001b[0;34m(\u001b[0m\u001b[0minput\u001b[0m\u001b[0;34m,\u001b[0m \u001b[0mtimeout\u001b[0m\u001b[0;34m=\u001b[0m\u001b[0mtimeout\u001b[0m\u001b[0;34m)\u001b[0m\u001b[0;34m\u001b[0m\u001b[0;34m\u001b[0m\u001b[0m\n",
      "\u001b[0;32m~/anaconda3/lib/python3.7/subprocess.py\u001b[0m in \u001b[0;36m__init__\u001b[0;34m(self, args, bufsize, executable, stdin, stdout, stderr, preexec_fn, close_fds, shell, cwd, env, universal_newlines, startupinfo, creationflags, restore_signals, start_new_session, pass_fds, encoding, errors, text)\u001b[0m\n\u001b[1;32m    767\u001b[0m                                 \u001b[0mc2pread\u001b[0m\u001b[0;34m,\u001b[0m \u001b[0mc2pwrite\u001b[0m\u001b[0;34m,\u001b[0m\u001b[0;34m\u001b[0m\u001b[0;34m\u001b[0m\u001b[0m\n\u001b[1;32m    768\u001b[0m                                 \u001b[0merrread\u001b[0m\u001b[0;34m,\u001b[0m \u001b[0merrwrite\u001b[0m\u001b[0;34m,\u001b[0m\u001b[0;34m\u001b[0m\u001b[0;34m\u001b[0m\u001b[0m\n\u001b[0;32m--> 769\u001b[0;31m                                 restore_signals, start_new_session)\n\u001b[0m\u001b[1;32m    770\u001b[0m         \u001b[0;32mexcept\u001b[0m\u001b[0;34m:\u001b[0m\u001b[0;34m\u001b[0m\u001b[0;34m\u001b[0m\u001b[0m\n\u001b[1;32m    771\u001b[0m             \u001b[0;31m# Cleanup if the child failed starting.\u001b[0m\u001b[0;34m\u001b[0m\u001b[0;34m\u001b[0m\u001b[0;34m\u001b[0m\u001b[0m\n",
      "\u001b[0;32m~/anaconda3/lib/python3.7/subprocess.py\u001b[0m in \u001b[0;36m_execute_child\u001b[0;34m(self, args, executable, preexec_fn, close_fds, pass_fds, cwd, env, startupinfo, creationflags, shell, p2cread, p2cwrite, c2pread, c2pwrite, errread, errwrite, restore_signals, start_new_session)\u001b[0m\n\u001b[1;32m   1514\u001b[0m                         \u001b[0;32mif\u001b[0m \u001b[0merrno_num\u001b[0m \u001b[0;34m==\u001b[0m \u001b[0merrno\u001b[0m\u001b[0;34m.\u001b[0m\u001b[0mENOENT\u001b[0m\u001b[0;34m:\u001b[0m\u001b[0;34m\u001b[0m\u001b[0;34m\u001b[0m\u001b[0m\n\u001b[1;32m   1515\u001b[0m                             \u001b[0merr_msg\u001b[0m \u001b[0;34m+=\u001b[0m \u001b[0;34m': '\u001b[0m \u001b[0;34m+\u001b[0m \u001b[0mrepr\u001b[0m\u001b[0;34m(\u001b[0m\u001b[0merr_filename\u001b[0m\u001b[0;34m)\u001b[0m\u001b[0;34m\u001b[0m\u001b[0;34m\u001b[0m\u001b[0m\n\u001b[0;32m-> 1516\u001b[0;31m                     \u001b[0;32mraise\u001b[0m \u001b[0mchild_exception_type\u001b[0m\u001b[0;34m(\u001b[0m\u001b[0merrno_num\u001b[0m\u001b[0;34m,\u001b[0m \u001b[0merr_msg\u001b[0m\u001b[0;34m,\u001b[0m \u001b[0merr_filename\u001b[0m\u001b[0;34m)\u001b[0m\u001b[0;34m\u001b[0m\u001b[0;34m\u001b[0m\u001b[0m\n\u001b[0m\u001b[1;32m   1517\u001b[0m                 \u001b[0;32mraise\u001b[0m \u001b[0mchild_exception_type\u001b[0m\u001b[0;34m(\u001b[0m\u001b[0merr_msg\u001b[0m\u001b[0;34m)\u001b[0m\u001b[0;34m\u001b[0m\u001b[0;34m\u001b[0m\u001b[0m\n\u001b[1;32m   1518\u001b[0m \u001b[0;34m\u001b[0m\u001b[0m\n",
      "\u001b[0;31mOSError\u001b[0m: [Errno 8] Exec format error: '/home/sashidhar/course-work/cs203/uci.cs203/biohive/src/main/resources/mindtct'"
     ]
    }
   ],
   "source": [
    "i = 0\n",
    "print(\"total = %s\" % len(files))\n",
    "\n",
    "for f in files:\n",
    "    fprefix = f.replace(\".tif\", \"\").replace(filetrim, \"\")\n",
    "    aligned = alignedprefix + fprefix + \".jpeg\"\n",
    "    minutiae = minutiaeprefix + fprefix\n",
    "    i = i + 1\n",
    "    if i % 5 == 0:\n",
    "        print(i)\n",
    "    extract_minutiae(tarp_loc, mindtct_loc, f, aligned, minutiae)"
   ]
  },
  {
   "cell_type": "code",
   "execution_count": null,
   "metadata": {},
   "outputs": [],
   "source": [
    "files2 = glob.glob(root_loc + \"biohive/src/database/minutiae/DB2_B/*.xyt\")\n",
    "files3 = glob.glob(root_loc + \"biohive/src/database/minutiae/DB3_B/*.xyt\")\n",
    "files4 = glob.glob(root_loc + \"biohive/src/database/minutiae/DB4_B/*.xyt\")\n",
    "files = files2 + files3 + files4\n",
    "print(\"total minutiae files = %s\" % len(files))\n",
    "\n",
    "x = []\n",
    "y = []\n",
    "o = []\n",
    "for fname in files:\n",
    "    contents = []\n",
    "    with open(fname) as f:\n",
    "        contents = f.readlines()\n",
    "    for content in contents:\n",
    "        content = content.rstrip().split(\" \")\n",
    "        x.append(int(content[0]))\n",
    "        y.append(int(content[1]))\n",
    "        o.append(int(content[2]))\n",
    "        "
   ]
  },
  {
   "cell_type": "code",
   "execution_count": null,
   "metadata": {},
   "outputs": [],
   "source": [
    "print(\"x co-ordinate stats:\")\n",
    "print(\"cardinality of x: %s\" % len(x))\n",
    "print(\"mean: %s\" %int(np.mean(x)))\n",
    "print(\"median: %s\" %int(np.median(x)))\n",
    "print(\"std: %s\" %int(np.std(x)))\n",
    "print(\"min: %s\" %int(np.min(x)))\n",
    "print(\"max: %s\" %int(np.max(x)))\n",
    "\n",
    "file = open(root_loc + \"biohive/src/main/resources/minutiae_probdist.meta\", \"w\") \n",
    "file.write(\"%s %s %s %s %s\\n\" %(int(np.mean(x)),int(np.median(x)),int(np.std(x)),int(np.min(x)),int(np.max(x)))"
   ]
  },
  {
   "cell_type": "code",
   "execution_count": null,
   "metadata": {},
   "outputs": [],
   "source": [
    "print(\"y co-ordinate stats:\")\n",
    "print(\"cardinality of y: %s\" % len(y))\n",
    "print(\"mean: %s\" %int(np.mean(y)))\n",
    "print(\"median: %s\" %int(np.median(y)))\n",
    "print(\"std: %s\" %int(np.std(y)))\n",
    "print(\"min: %s\" %int(np.min(y)))\n",
    "print(\"max: %s\" %int(np.max(y)))\n",
    "\n",
    "file.write(\"%s %s %s %s %s\\n\" %(int(np.mean(y)),int(np.median(y)),int(np.std(y)),int(np.min(y)),int(np.max(y))))"
   ]
  },
  {
   "cell_type": "code",
   "execution_count": null,
   "metadata": {},
   "outputs": [],
   "source": [
    "print(\"thetha stats:\")\n",
    "print(\"cardinality of thetha: %s\" % len(o))\n",
    "print(\"mean: %s\" %int(np.mean(o)))\n",
    "print(\"median: %s\" %int(np.median(o)))\n",
    "print(\"std: %s\" %int(np.std(o)))\n",
    "print(\"min: %s\" %int(np.min(o)))\n",
    "print(\"max: %s\" %int(np.max(o)))\n",
    "\n",
    "file.write(\"%s %s %s %s %s\\n\" %(int(np.mean(o)),int(np.median(o)),int(np.std(o)),int(np.min(o)),int(np.max(o))))\n",
    "file.close()"
   ]
  }
 ],
 "metadata": {
  "kernelspec": {
   "display_name": "Python 3",
   "language": "python",
   "name": "python3"
  },
  "language_info": {
   "codemirror_mode": {
    "name": "ipython",
    "version": 3
   },
   "file_extension": ".py",
   "mimetype": "text/x-python",
   "name": "python",
   "nbconvert_exporter": "python",
   "pygments_lexer": "ipython3",
   "version": "3.7.1"
  }
 },
 "nbformat": 4,
 "nbformat_minor": 2
}
